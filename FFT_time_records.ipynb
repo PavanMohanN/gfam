{
  "nbformat": 4,
  "nbformat_minor": 0,
  "metadata": {
    "colab": {
      "provenance": []
    },
    "kernelspec": {
      "name": "python3",
      "display_name": "Python 3"
    },
    "language_info": {
      "name": "python"
    }
  },
  "cells": [
    {
      "cell_type": "markdown",
      "source": [
        "This code is only used to measure the training and inference time of FFT algorithm. There is no further utilization."
      ],
      "metadata": {
        "id": "0Q4Ip3A3K9fN"
      }
    },
    {
      "cell_type": "code",
      "source": [
        "from google.colab import drive\n",
        "drive.mount('/content/drive')"
      ],
      "metadata": {
        "colab": {
          "base_uri": "https://localhost:8080/"
        },
        "id": "mDDDmO6_GDIy",
        "outputId": "5e9f0d91-fde1-4d2e-be00-fbc2813c1059"
      },
      "execution_count": 1,
      "outputs": [
        {
          "output_type": "stream",
          "name": "stdout",
          "text": [
            "Mounted at /content/drive\n"
          ]
        }
      ]
    },
    {
      "cell_type": "code",
      "source": [
        "import numpy as np\n",
        "import pandas as pd\n",
        "import matplotlib.pyplot as plt\n",
        "import seaborn as sns\n",
        "from sklearn.model_selection import train_test_split\n",
        "import time\n",
        "\n",
        "# Load the CSV data (dataset2.csv)\n",
        "data = pd.read_csv('/content/drive/MyDrive/OFDM/ofdm_data_with_headers_16QAM.csv')\n",
        "\n",
        "# Split the data into features (X) and targets (Y)\n",
        "X = data[['Real_Input', 'Imag_Input']].values\n",
        "Y = data[['Real_FFT_Output', 'Imag_FFT_Output']].values\n",
        "\n",
        "# Split the data into training and validation sets\n",
        "X_train, X_val, Y_train, Y_val = train_test_split(X, Y, test_size=0.2, random_state=42)\n",
        "\n",
        "# Function to perform FFT and measure time\n",
        "def perform_fft(data):\n",
        "    start_time = time.time()\n",
        "    fft_output = np.fft.fft(data)\n",
        "    end_time = time.time()\n",
        "    return fft_output, end_time - start_time\n",
        "\n",
        "# Measure training time\n",
        "fft_training_output, training_time = perform_fft(X_train)\n",
        "\n",
        "# Measure inference time\n",
        "fft_testing_output, inference_time = perform_fft(X_val)\n",
        "\n",
        "# Print the times\n",
        "print(f\"Training Time: {training_time:.4f} seconds\")\n",
        "print(f\"Inference Time: {inference_time:.4f} seconds\")\n"
      ],
      "metadata": {
        "colab": {
          "base_uri": "https://localhost:8080/"
        },
        "id": "sWQxuZJMGSJK",
        "outputId": "31d3a528-4454-4634-fd56-2647e2859110"
      },
      "execution_count": 6,
      "outputs": [
        {
          "output_type": "stream",
          "name": "stdout",
          "text": [
            "Training Time: 0.0150 seconds\n",
            "Inference Time: 0.0010 seconds\n"
          ]
        }
      ]
    },
    {
      "cell_type": "code",
      "source": [],
      "metadata": {
        "id": "WP70jlKNGEqq"
      },
      "execution_count": null,
      "outputs": []
    }
  ]
}